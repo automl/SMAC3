{
  "cells": [
    {
      "cell_type": "markdown",
      "metadata": {},
      "source": [
        "\n# Warmstarting SMAC\n\nWith the ask and tell interface, we can support warmstarting SMAC. We can communicate rich\ninformation about the previous trials to SMAC using `TrialInfo` and `TrialValue` instances.\nFor more details on ask and tell consult `advanced_usage/5_ask_and_tell`.\n"
      ]
    },
    {
      "cell_type": "code",
      "execution_count": null,
      "metadata": {
        "collapsed": false
      },
      "outputs": [],
      "source": [
        "from __future__ import annotations\n\nfrom smac.scenario import Scenario\nfrom smac.facade import HyperparameterOptimizationFacade\nfrom ConfigSpace import Configuration, ConfigurationSpace, Float\nfrom smac.runhistory.dataclasses import TrialValue, TrialInfo\n\n\nclass Rosenbrock2D:\n    @property\n    def configspace(self) -> ConfigurationSpace:\n        cs = ConfigurationSpace(seed=0)\n        x0 = Float(\"x0\", (-5, 10), default=-3)\n        x1 = Float(\"x1\", (-5, 10), default=-4)\n        cs.add([x0, x1])\n\n        return cs\n\n    def evaluate(self, config: Configuration, seed: int = 0) -> float:\n        \"\"\"The 2-dimensional Rosenbrock function as a toy model.\n        The Rosenbrock function is well know in the optimization community and\n        often serves as a toy problem. It can be defined for arbitrary\n        dimensions. The minimium is always at x_i = 1 with a function value of\n        zero. All input parameters are continuous. The search domain for\n        all x's is the interval [-5, 10].\n        \"\"\"\n        x1 = config[\"x0\"]\n        x2 = config[\"x1\"]\n\n        cost = 100.0 * (x2 - x1**2.0) ** 2.0 + (1 - x1) ** 2.0\n        return cost\n\n\nif __name__ == \"__main__\":\n    SEED = 12345\n    task = Rosenbrock2D()\n\n    # Previous evaluations\n    # X vectors need to be connected to the configuration space\n    configurations = [\n        Configuration(task.configspace, {'x0':1, 'x1':2}),\n        Configuration(task.configspace, {'x0':-1, 'x1':3}),\n        Configuration(task.configspace, {'x0':5, 'x1':5}),\n    ]\n    costs = [task.evaluate(c, seed=SEED) for c in configurations]\n\n    # Define optimization problem and budget\n    scenario = Scenario(task.configspace, deterministic=False, n_trials=30)\n    intensifier = HyperparameterOptimizationFacade.get_intensifier(scenario, max_config_calls=1)\n    smac = HyperparameterOptimizationFacade(\n        scenario,\n        task.evaluate,\n        intensifier=intensifier,\n        overwrite=True,\n\n        # Modify the initial design to use our custom initial design\n        initial_design=HyperparameterOptimizationFacade.get_initial_design(\n            scenario, \n            n_configs=0,  # Do not use the default initial design\n            additional_configs=configurations  # Use the configurations previously evaluated as initial design\n                                               # This only passes the configurations but not the cost!\n                                               # So in order to actually use the custom, pre-evaluated initial design\n                                               # we need to tell those trials, like below.\n        )\n    )\n\n    # Convert previously evaluated configurations into TrialInfo and TrialValue instances to pass to SMAC\n    trial_infos = [TrialInfo(config=c, seed=SEED) for c in configurations]\n    trial_values = [TrialValue(cost=c) for c in costs]\n\n    # Warmstart SMAC with the trial information and values\n    for info, value in zip(trial_infos, trial_values):\n        smac.tell(info, value)\n\n    # Optimize as usual\n    smac.optimize()"
      ]
    }
  ],
  "metadata": {
    "kernelspec": {
      "display_name": "Python 3",
      "language": "python",
      "name": "python3"
    },
    "language_info": {
      "codemirror_mode": {
        "name": "ipython",
        "version": 3
      },
      "file_extension": ".py",
      "mimetype": "text/x-python",
      "name": "python",
      "nbconvert_exporter": "python",
      "pygments_lexer": "ipython3",
      "version": "3.10.15"
    }
  },
  "nbformat": 4,
  "nbformat_minor": 0
}