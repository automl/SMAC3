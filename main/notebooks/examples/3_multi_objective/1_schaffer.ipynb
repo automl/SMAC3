{
  "cells": [
    {
      "cell_type": "markdown",
      "metadata": {},
      "source": [
        "\n# 2D Schaffer Function with Objective Weights\n\nA simple example on how to use multi-objective optimization is shown. The 2D Schaffer function is used. In the plot\nyou can see that all points are on the Pareto front. However, since we set the objective weights, you can notice that\nSMAC prioritizes the second objective over the first one.\n"
      ]
    },
    {
      "cell_type": "code",
      "execution_count": null,
      "metadata": {
        "collapsed": false
      },
      "outputs": [],
      "source": [
        "from __future__ import annotations\n\nfrom typing import Dict, Tuple\n\nimport numpy as np\nfrom ConfigSpace import Configuration, ConfigurationSpace\nfrom matplotlib import pyplot as plt\n\nfrom smac import HyperparameterOptimizationFacade as HPOFacade\nfrom smac import Scenario\nfrom smac.facade import AbstractFacade\n\n__copyright__ = \"Copyright 2021, AutoML.org Freiburg-Hannover\"\n__license__ = \"3-clause BSD\"\n\n\ndef schaffer(x: float) -> Tuple[float, float]:\n    f1 = np.square(x)\n    f2 = np.square(np.sqrt(f1) - 2)\n\n    return f1, f2\n\n\ndef target_function(config: Configuration, seed: int = 0) -> Dict[str, float]:\n    f1, f2 = schaffer(config[\"x\"])\n    return {\"metric1\": f1, \"metric2\": f2}\n\n\ndef plot_from_smac(smac: AbstractFacade) -> None:\n    plt.figure()\n    configs = smac.runhistory.get_configs()\n    incumbents = smac.intensifier.get_incumbents()\n\n    for i, config in enumerate(configs):\n        if config in incumbents:\n            continue\n\n        label = None\n        if i == 0:\n            label = \"Configuration\"\n\n        x = config[\"x\"]\n        f1, f2 = schaffer(x)\n        plt.scatter(f1, f2, c=\"blue\", alpha=0.1, marker=\"o\", zorder=3000, label=label)\n\n    for i, config in enumerate(incumbents):\n        label = None\n        if i == 0:\n            label = \"Incumbent\"\n\n        x = config[\"x\"]\n        f1, f2 = schaffer(x)\n        plt.scatter(f1, f2, c=\"red\", alpha=1, marker=\"x\", zorder=3000, label=label)\n\n    plt.xlabel(\"f1\")\n    plt.ylabel(\"f2\")\n    plt.title(\"Schaffer 2D\")\n    plt.legend()\n\n    plt.show()\n\n\nif __name__ == \"__main__\":\n    # Simple configspace\n    cs = ConfigurationSpace({\"x\": (-2.0, 2.0)})\n\n    # Scenario object\n    scenario = Scenario(\n        configspace=cs,\n        deterministic=True,  # Only one seed\n        n_trials=150,\n        objectives=[\"metric1\", \"metric2\"],\n    )\n\n    smac = HPOFacade(\n        scenario=scenario,\n        target_function=target_function,\n        multi_objective_algorithm=HPOFacade.get_multi_objective_algorithm(\n            scenario,\n            objective_weights=[1, 2],  # Weight metric2 twice as much as metric1\n        ),\n        overwrite=True,\n    )\n    incumbents = smac.optimize()\n\n    # Get cost of default configuration\n    default_cost = smac.validate(cs.get_default_configuration())\n    print(f\"Validated costs from default config: \\n--- {default_cost}\\n\")\n\n    print(\"Validated costs from the Pareto front (incumbents):\")\n    for incumbent in incumbents:\n        cost = smac.validate(incumbent)\n        print(\"---\", cost)\n\n    # Plot the evaluated points\n    plot_from_smac(smac)"
      ]
    }
  ],
  "metadata": {
    "kernelspec": {
      "display_name": "Python 3",
      "language": "python",
      "name": "python3"
    },
    "language_info": {
      "codemirror_mode": {
        "name": "ipython",
        "version": 3
      },
      "file_extension": ".py",
      "mimetype": "text/x-python",
      "name": "python",
      "nbconvert_exporter": "python",
      "pygments_lexer": "ipython3",
      "version": "3.10.12"
    }
  },
  "nbformat": 4,
  "nbformat_minor": 0
}