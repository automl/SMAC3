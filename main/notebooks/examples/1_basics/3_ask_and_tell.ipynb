{
  "cells": [
    {
      "cell_type": "markdown",
      "metadata": {},
      "source": [
        "\n# Ask-and-Tell\n\nThis examples show how to use the Ask-and-Tell interface.\n"
      ]
    },
    {
      "cell_type": "code",
      "execution_count": null,
      "metadata": {
        "collapsed": false
      },
      "outputs": [],
      "source": [
        "from ConfigSpace import Configuration, ConfigurationSpace, Float\n\nfrom smac import HyperparameterOptimizationFacade, Scenario\nfrom smac.runhistory.dataclasses import TrialValue\n\n__copyright__ = \"Copyright 2021, AutoML.org Freiburg-Hannover\"\n__license__ = \"3-clause BSD\"\n\n\nclass Rosenbrock2D:\n    @property\n    def configspace(self) -> ConfigurationSpace:\n        cs = ConfigurationSpace(seed=0)\n        x0 = Float(\"x0\", (-5, 10), default=-3)\n        x1 = Float(\"x1\", (-5, 10), default=-4)\n        cs.add_hyperparameters([x0, x1])\n\n        return cs\n\n    def train(self, config: Configuration, seed: int = 0) -> float:\n        \"\"\"The 2-dimensional Rosenbrock function as a toy model.\n        The Rosenbrock function is well know in the optimization community and\n        often serves as a toy problem. It can be defined for arbitrary\n        dimensions. The minimium is always at x_i = 1 with a function value of\n        zero. All input parameters are continuous. The search domain for\n        all x's is the interval [-5, 10].\n        \"\"\"\n        x1 = config[\"x0\"]\n        x2 = config[\"x1\"]\n\n        cost = 100.0 * (x2 - x1**2.0) ** 2.0 + (1 - x1) ** 2.0\n        return cost\n\n\nif __name__ == \"__main__\":\n    model = Rosenbrock2D()\n\n    # Scenario object\n    scenario = Scenario(model.configspace, deterministic=False, n_trials=100)\n\n    intensifier = HyperparameterOptimizationFacade.get_intensifier(\n        scenario,\n        max_config_calls=1,  # We basically use one seed per config only\n    )\n\n    # Now we use SMAC to find the best hyperparameters\n    smac = HyperparameterOptimizationFacade(\n        scenario,\n        model.train,\n        intensifier=intensifier,\n        overwrite=True,\n    )\n\n    # We can ask SMAC which trials should be evaluated next\n    for _ in range(10):\n        info = smac.ask()\n        assert info.seed is not None\n\n        cost = model.train(info.config, seed=info.seed)\n        value = TrialValue(cost=cost, time=0.5)\n\n        smac.tell(info, value)\n\n    # After calling ask+tell, we can still optimize\n    # Note: SMAC will optimize the next 90 trials because 10 trials already have been evaluated\n    incumbent = smac.optimize()\n\n    # Get cost of default configuration\n    default_cost = smac.validate(model.configspace.get_default_configuration())\n    print(f\"Default cost: {default_cost}\")\n\n    # Let's calculate the cost of the incumbent\n    incumbent_cost = smac.validate(incumbent)\n    print(f\"Incumbent cost: {incumbent_cost}\")"
      ]
    }
  ],
  "metadata": {
    "kernelspec": {
      "display_name": "Python 3",
      "language": "python",
      "name": "python3"
    },
    "language_info": {
      "codemirror_mode": {
        "name": "ipython",
        "version": 3
      },
      "file_extension": ".py",
      "mimetype": "text/x-python",
      "name": "python",
      "nbconvert_exporter": "python",
      "pygments_lexer": "ipython3",
      "version": "3.10.12"
    }
  },
  "nbformat": 4,
  "nbformat_minor": 0
}