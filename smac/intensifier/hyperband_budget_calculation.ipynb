{
 "cells": [
  {
   "cell_type": "code",
   "execution_count": 2,
   "metadata": {},
   "outputs": [
    {
     "name": "stdout",
     "output_type": "stream",
     "text": [
      "14 545679.0123456805\n",
      "------------------------------ HYPERBAND IN MULTI-FIDELITY ------------------------------\n",
      "total budget:\t\t 10000000\n",
      "total number of trials:\t 3017\n",
      "number of HB rounds:\t 14.80804387568556\n",
      "\n",
      "\t~~~~~~~~~~~~HYPERBAND ROUND\n",
      "\teta:\t\t\t\t\t 3\n",
      "\tmin budget per trial:\t\t\t 1000\n",
      "\tmax budget per trial:\t\t\t 100000\n",
      "\ttotal number of trials per HB round:\t 206\n",
      "\tbudget used per HB round:\t\t 675308.6419753085\n",
      "\tnumber of brackets:\t\t\t 4\n",
      "\tbudgets per stage:\t\t\t {0: [1234.567901234568, 3703.7037037037035, 11111.111111111111, 33333.33333333333, 100000.0], 1: [3703.7037037037035, 11111.111111111111, 33333.33333333333, 100000.0], 2: [11111.111111111111, 33333.33333333333, 100000.0], 3: [33333.33333333333, 100000.0], 4: [100000.0]}\n",
      "\tn configs per stage:\t\t\t {0: [81, 27, 9, 3, 1], 1: [34, 11, 3, 1], 2: [15, 5, 1], 3: [8, 2], 4: [5]}\n",
      "-----------------------------------------------------------------------------------------\n",
      "3017\n"
     ]
    }
   ],
   "source": [
    "from smac.intensifier.hyperband_utils import get_n_trials_for_hyperband_multifidelity\n",
    "\n",
    "# Specify total budget\n",
    "total_budget = 10_000_000\n",
    "\n",
    "# Optionall specify eta, min_budget and max_budget to adjust HB\n",
    "min_budget = 1000\n",
    "max_budget = 100000  # R\n",
    "eta = 3\n",
    "\n",
    "\n",
    "n_trials = get_n_trials_for_hyperband_multifidelity(total_budget=total_budget, eta=eta, min_budget=min_budget, max_budget=max_budget, print_summary=True)\n",
    "print(n_trials)\n",
    "\n",
    "\n",
    "\n"
   ]
  }
 ],
 "metadata": {
  "kernelspec": {
   "display_name": "Python 3",
   "language": "python",
   "name": "python3"
  },
  "language_info": {
   "codemirror_mode": {
    "name": "ipython",
    "version": 3
   },
   "file_extension": ".py",
   "mimetype": "text/x-python",
   "name": "python",
   "nbconvert_exporter": "python",
   "pygments_lexer": "ipython3",
   "version": "3.10.11"
  }
 },
 "nbformat": 4,
 "nbformat_minor": 2
}
