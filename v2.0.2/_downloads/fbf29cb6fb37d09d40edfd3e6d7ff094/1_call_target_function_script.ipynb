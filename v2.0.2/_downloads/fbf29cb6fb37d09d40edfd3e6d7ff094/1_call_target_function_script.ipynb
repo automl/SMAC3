{
  "cells": [
    {
      "cell_type": "markdown",
      "metadata": {},
      "source": [
        "\n# Call Target Function From Script\n\nThis simple example shows how to call a script with the following content:\n\n```bash\n#!/bin/bash\n\n# Set arguments first\nfor argument in \"$@\"\ndo\n    key=$(echo $argument | cut -f1 -d=)\n    value=$(echo $argument | cut -f2 -d=)  \n\n    if [[ $key == *\"--\"* ]]; then\n        v=\"${key/--/}\"\n        declare $v=\"${value}\"\n    fi\ndone\n\n# We simply set the cost to our parameter\ncost=$x0\n\n# Return everything\necho \"cost=$cost\"\n```\n"
      ]
    },
    {
      "cell_type": "code",
      "execution_count": null,
      "metadata": {
        "collapsed": false
      },
      "outputs": [],
      "source": [
        "from ConfigSpace import ConfigurationSpace\n\nfrom smac import BlackBoxFacade, Scenario\n\n__copyright__ = \"Copyright 2021, AutoML.org Freiburg-Hannover\"\n__license__ = \"3-clause BSD\"\n\n\nif __name__ == \"__main__\":\n    cs = ConfigurationSpace({\"x0\": (0, 1000)}, seed=0)\n\n    # Scenario object specifying the optimization \"environment\"\n    scenario = Scenario(cs, deterministic=True, n_trials=30)\n\n    # Now we use SMAC to find the best hyperparameters\n    smac = BlackBoxFacade(\n        scenario,\n        \"./script.sh\",  # We pass the filename of our script here\n        overwrite=True,  # Overrides any previous results that are found that are inconsistent with the meta-data\n    )\n    incumbent = smac.optimize()\n\n    # Get cost of default configuration\n    default_cost = smac.validate(cs.get_default_configuration())\n    print(f\"Default cost: {default_cost}\")\n\n    # Let's calculate the cost of the incumbent\n    incumbent_cost = smac.validate(incumbent)\n    print(f\"Incumbent cost: {incumbent_cost}\")"
      ]
    }
  ],
  "metadata": {
    "kernelspec": {
      "display_name": "Python 3",
      "language": "python",
      "name": "python3"
    },
    "language_info": {
      "codemirror_mode": {
        "name": "ipython",
        "version": 3
      },
      "file_extension": ".py",
      "mimetype": "text/x-python",
      "name": "python",
      "nbconvert_exporter": "python",
      "pygments_lexer": "ipython3",
      "version": "3.10.12"
    }
  },
  "nbformat": 4,
  "nbformat_minor": 0
}